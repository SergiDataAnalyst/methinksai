{
 "cells": [
  {
   "cell_type": "code",
   "execution_count": 80,
   "metadata": {},
   "outputs": [],
   "source": [
    "import pandas as pd"
   ]
  },
  {
   "cell_type": "markdown",
   "metadata": {},
   "source": [
    "## Initial Exploration"
   ]
  },
  {
   "cell_type": "code",
   "execution_count": 153,
   "metadata": {},
   "outputs": [
    {
     "name": "stdout",
     "output_type": "stream",
     "text": [
      "(8454, 206)\n"
     ]
    },
    {
     "name": "stderr",
     "output_type": "stream",
     "text": [
      "C:\\Users\\pizza\\AppData\\Local\\Temp\\ipykernel_10248\\2180137487.py:1: DtypeWarning: Columns (129,138,139,140,141,142,143,148,152,157,158,168,169,172,173,176,179,180,181,189,191) have mixed types. Specify dtype option on import or set low_memory=False.\n",
      "  df = pd.read_csv(\"inventory_test.csv\")\n"
     ]
    },
    {
     "data": {
      "text/html": [
       "<div>\n",
       "<style scoped>\n",
       "    .dataframe tbody tr th:only-of-type {\n",
       "        vertical-align: middle;\n",
       "    }\n",
       "\n",
       "    .dataframe tbody tr th {\n",
       "        vertical-align: top;\n",
       "    }\n",
       "\n",
       "    .dataframe thead th {\n",
       "        text-align: right;\n",
       "    }\n",
       "</style>\n",
       "<table border=\"1\" class=\"dataframe\">\n",
       "  <thead>\n",
       "    <tr style=\"text-align: right;\">\n",
       "      <th></th>\n",
       "      <th>PatientID</th>\n",
       "      <th>PatientSex</th>\n",
       "      <th>PatientBirthDate</th>\n",
       "      <th>StudyInstanceUID</th>\n",
       "      <th>StudyDescription</th>\n",
       "      <th>StudyDate</th>\n",
       "      <th>SeriesInstanceUID</th>\n",
       "      <th>SeriesDescription</th>\n",
       "      <th>Manufacturer</th>\n",
       "      <th>Instances</th>\n",
       "      <th>...</th>\n",
       "      <th>RETIRED_CurveDimensions</th>\n",
       "      <th>RETIRED_NumberOfPoints</th>\n",
       "      <th>RETIRED_TypeOfData</th>\n",
       "      <th>RETIRED_CurveDescription</th>\n",
       "      <th>RETIRED_DataValueRepresentation</th>\n",
       "      <th>RETIRED_CurveData</th>\n",
       "      <th>SmallestPixelValueInSeries</th>\n",
       "      <th>LargestPixelValueInSeries</th>\n",
       "      <th>ScanArc</th>\n",
       "      <th>RouteOfAdmissions</th>\n",
       "    </tr>\n",
       "  </thead>\n",
       "  <tbody>\n",
       "    <tr>\n",
       "      <th>0</th>\n",
       "      <td>K100</td>\n",
       "      <td>NaN</td>\n",
       "      <td>NaN</td>\n",
       "      <td>1.3.12.2.1107.5.1.4.28600023236596336688906318...</td>\n",
       "      <td>CT BRAIN WO CONTRAST (70450)</td>\n",
       "      <td>20220401</td>\n",
       "      <td>1.3.12.2.1107.5.1.4.19743776053189314668198005...</td>\n",
       "      <td>Topogram__0_6__T20s</td>\n",
       "      <td>SIEMENS</td>\n",
       "      <td>2</td>\n",
       "      <td>...</td>\n",
       "      <td>NaN</td>\n",
       "      <td>NaN</td>\n",
       "      <td>NaN</td>\n",
       "      <td>NaN</td>\n",
       "      <td>NaN</td>\n",
       "      <td>NaN</td>\n",
       "      <td>NaN</td>\n",
       "      <td>NaN</td>\n",
       "      <td>NaN</td>\n",
       "      <td>NaN</td>\n",
       "    </tr>\n",
       "    <tr>\n",
       "      <th>1</th>\n",
       "      <td>K100</td>\n",
       "      <td>NaN</td>\n",
       "      <td>NaN</td>\n",
       "      <td>1.3.12.2.1107.5.1.4.28600023236596336688906318...</td>\n",
       "      <td>CT BRAIN WO CONTRAST (70450)</td>\n",
       "      <td>20220401</td>\n",
       "      <td>1.3.12.2.1107.5.1.4.14463949905640131236256856...</td>\n",
       "      <td>Helical_Head__5_0__J37s</td>\n",
       "      <td>SIEMENS</td>\n",
       "      <td>36</td>\n",
       "      <td>...</td>\n",
       "      <td>NaN</td>\n",
       "      <td>NaN</td>\n",
       "      <td>NaN</td>\n",
       "      <td>NaN</td>\n",
       "      <td>NaN</td>\n",
       "      <td>NaN</td>\n",
       "      <td>NaN</td>\n",
       "      <td>NaN</td>\n",
       "      <td>NaN</td>\n",
       "      <td>NaN</td>\n",
       "    </tr>\n",
       "    <tr>\n",
       "      <th>2</th>\n",
       "      <td>K100</td>\n",
       "      <td>NaN</td>\n",
       "      <td>NaN</td>\n",
       "      <td>1.3.12.2.1107.5.1.4.28600023236596336688906318...</td>\n",
       "      <td>CT BRAIN WO CONTRAST (70450)</td>\n",
       "      <td>20220401</td>\n",
       "      <td>1.3.12.2.1107.5.1.4.11270577611930653926640724...</td>\n",
       "      <td>Helical_Head__5_0__Axial_MPR</td>\n",
       "      <td>SIEMENS</td>\n",
       "      <td>41</td>\n",
       "      <td>...</td>\n",
       "      <td>NaN</td>\n",
       "      <td>NaN</td>\n",
       "      <td>NaN</td>\n",
       "      <td>NaN</td>\n",
       "      <td>NaN</td>\n",
       "      <td>NaN</td>\n",
       "      <td>NaN</td>\n",
       "      <td>NaN</td>\n",
       "      <td>NaN</td>\n",
       "      <td>NaN</td>\n",
       "    </tr>\n",
       "    <tr>\n",
       "      <th>3</th>\n",
       "      <td>K100</td>\n",
       "      <td>NaN</td>\n",
       "      <td>NaN</td>\n",
       "      <td>1.3.12.2.1107.5.1.4.28600023236596336688906318...</td>\n",
       "      <td>CT BRAIN WO CONTRAST (70450)</td>\n",
       "      <td>20220401</td>\n",
       "      <td>1.3.12.2.1107.5.1.4.17407020384920076295523451...</td>\n",
       "      <td>Helical_Head_Coronal</td>\n",
       "      <td>SIEMENS</td>\n",
       "      <td>49</td>\n",
       "      <td>...</td>\n",
       "      <td>NaN</td>\n",
       "      <td>NaN</td>\n",
       "      <td>NaN</td>\n",
       "      <td>NaN</td>\n",
       "      <td>NaN</td>\n",
       "      <td>NaN</td>\n",
       "      <td>NaN</td>\n",
       "      <td>NaN</td>\n",
       "      <td>NaN</td>\n",
       "      <td>NaN</td>\n",
       "    </tr>\n",
       "    <tr>\n",
       "      <th>4</th>\n",
       "      <td>K100</td>\n",
       "      <td>NaN</td>\n",
       "      <td>NaN</td>\n",
       "      <td>1.3.12.2.1107.5.1.4.28600023236596336688906318...</td>\n",
       "      <td>CT BRAIN WO CONTRAST (70450)</td>\n",
       "      <td>20220401</td>\n",
       "      <td>1.3.12.2.1107.5.1.4.84337701080239475497944344...</td>\n",
       "      <td>Helical_Head_Sagittal</td>\n",
       "      <td>SIEMENS</td>\n",
       "      <td>49</td>\n",
       "      <td>...</td>\n",
       "      <td>NaN</td>\n",
       "      <td>NaN</td>\n",
       "      <td>NaN</td>\n",
       "      <td>NaN</td>\n",
       "      <td>NaN</td>\n",
       "      <td>NaN</td>\n",
       "      <td>NaN</td>\n",
       "      <td>NaN</td>\n",
       "      <td>NaN</td>\n",
       "      <td>NaN</td>\n",
       "    </tr>\n",
       "  </tbody>\n",
       "</table>\n",
       "<p>5 rows × 206 columns</p>\n",
       "</div>"
      ],
      "text/plain": [
       "  PatientID  PatientSex  PatientBirthDate  \\\n",
       "0      K100         NaN               NaN   \n",
       "1      K100         NaN               NaN   \n",
       "2      K100         NaN               NaN   \n",
       "3      K100         NaN               NaN   \n",
       "4      K100         NaN               NaN   \n",
       "\n",
       "                                    StudyInstanceUID  \\\n",
       "0  1.3.12.2.1107.5.1.4.28600023236596336688906318...   \n",
       "1  1.3.12.2.1107.5.1.4.28600023236596336688906318...   \n",
       "2  1.3.12.2.1107.5.1.4.28600023236596336688906318...   \n",
       "3  1.3.12.2.1107.5.1.4.28600023236596336688906318...   \n",
       "4  1.3.12.2.1107.5.1.4.28600023236596336688906318...   \n",
       "\n",
       "               StudyDescription  StudyDate  \\\n",
       "0  CT BRAIN WO CONTRAST (70450)   20220401   \n",
       "1  CT BRAIN WO CONTRAST (70450)   20220401   \n",
       "2  CT BRAIN WO CONTRAST (70450)   20220401   \n",
       "3  CT BRAIN WO CONTRAST (70450)   20220401   \n",
       "4  CT BRAIN WO CONTRAST (70450)   20220401   \n",
       "\n",
       "                                   SeriesInstanceUID  \\\n",
       "0  1.3.12.2.1107.5.1.4.19743776053189314668198005...   \n",
       "1  1.3.12.2.1107.5.1.4.14463949905640131236256856...   \n",
       "2  1.3.12.2.1107.5.1.4.11270577611930653926640724...   \n",
       "3  1.3.12.2.1107.5.1.4.17407020384920076295523451...   \n",
       "4  1.3.12.2.1107.5.1.4.84337701080239475497944344...   \n",
       "\n",
       "              SeriesDescription Manufacturer  Instances  ...  \\\n",
       "0           Topogram__0_6__T20s      SIEMENS          2  ...   \n",
       "1       Helical_Head__5_0__J37s      SIEMENS         36  ...   \n",
       "2  Helical_Head__5_0__Axial_MPR      SIEMENS         41  ...   \n",
       "3          Helical_Head_Coronal      SIEMENS         49  ...   \n",
       "4         Helical_Head_Sagittal      SIEMENS         49  ...   \n",
       "\n",
       "  RETIRED_CurveDimensions  RETIRED_NumberOfPoints  RETIRED_TypeOfData  \\\n",
       "0                     NaN                     NaN                 NaN   \n",
       "1                     NaN                     NaN                 NaN   \n",
       "2                     NaN                     NaN                 NaN   \n",
       "3                     NaN                     NaN                 NaN   \n",
       "4                     NaN                     NaN                 NaN   \n",
       "\n",
       "   RETIRED_CurveDescription RETIRED_DataValueRepresentation RETIRED_CurveData  \\\n",
       "0                       NaN                             NaN               NaN   \n",
       "1                       NaN                             NaN               NaN   \n",
       "2                       NaN                             NaN               NaN   \n",
       "3                       NaN                             NaN               NaN   \n",
       "4                       NaN                             NaN               NaN   \n",
       "\n",
       "   SmallestPixelValueInSeries LargestPixelValueInSeries  ScanArc  \\\n",
       "0                         NaN                       NaN      NaN   \n",
       "1                         NaN                       NaN      NaN   \n",
       "2                         NaN                       NaN      NaN   \n",
       "3                         NaN                       NaN      NaN   \n",
       "4                         NaN                       NaN      NaN   \n",
       "\n",
       "  RouteOfAdmissions  \n",
       "0               NaN  \n",
       "1               NaN  \n",
       "2               NaN  \n",
       "3               NaN  \n",
       "4               NaN  \n",
       "\n",
       "[5 rows x 206 columns]"
      ]
     },
     "execution_count": 153,
     "metadata": {},
     "output_type": "execute_result"
    }
   ],
   "source": [
    "df = pd.read_csv(\"inventory_test.csv\")\n",
    "print(df.shape)\n",
    "df.head()"
   ]
  },
  {
   "cell_type": "code",
   "execution_count": 154,
   "metadata": {},
   "outputs": [
    {
     "data": {
      "text/plain": [
       "PatientID                      object\n",
       "PatientSex                    float64\n",
       "PatientBirthDate              float64\n",
       "StudyInstanceUID               object\n",
       "StudyDescription               object\n",
       "                               ...   \n",
       "RETIRED_CurveData             float64\n",
       "SmallestPixelValueInSeries    float64\n",
       "LargestPixelValueInSeries     float64\n",
       "ScanArc                       float64\n",
       "RouteOfAdmissions             float64\n",
       "Length: 206, dtype: object"
      ]
     },
     "execution_count": 154,
     "metadata": {},
     "output_type": "execute_result"
    }
   ],
   "source": [
    "df.dtypes"
   ]
  },
  {
   "cell_type": "code",
   "execution_count": 155,
   "metadata": {},
   "outputs": [
    {
     "data": {
      "text/plain": [
       "PatientID                        0\n",
       "PatientSex                    8454\n",
       "PatientBirthDate              8454\n",
       "StudyInstanceUID                 0\n",
       "StudyDescription                 0\n",
       "                              ... \n",
       "RETIRED_CurveData             8454\n",
       "SmallestPixelValueInSeries    8454\n",
       "LargestPixelValueInSeries     8454\n",
       "ScanArc                       8454\n",
       "RouteOfAdmissions             8454\n",
       "Length: 206, dtype: int64"
      ]
     },
     "execution_count": 155,
     "metadata": {},
     "output_type": "execute_result"
    }
   ],
   "source": [
    "df.isnull().sum()"
   ]
  },
  {
   "cell_type": "code",
   "execution_count": 156,
   "metadata": {},
   "outputs": [
    {
     "data": {
      "text/plain": [
       "True     173\n",
       "False     33\n",
       "dtype: int64"
      ]
     },
     "execution_count": 156,
     "metadata": {},
     "output_type": "execute_result"
    }
   ],
   "source": [
    "df.isnull().any().value_counts()\n"
   ]
  },
  {
   "cell_type": "code",
   "execution_count": 157,
   "metadata": {},
   "outputs": [
    {
     "data": {
      "text/plain": [
       "0"
      ]
     },
     "execution_count": 157,
     "metadata": {},
     "output_type": "execute_result"
    }
   ],
   "source": [
    "df.duplicated().sum()"
   ]
  },
  {
   "cell_type": "code",
   "execution_count": 158,
   "metadata": {},
   "outputs": [
    {
     "data": {
      "text/plain": [
       "(8454, 178)"
      ]
     },
     "execution_count": 158,
     "metadata": {},
     "output_type": "execute_result"
    }
   ],
   "source": [
    "df = df.dropna(axis=1, how='all')\n",
    "df.shape"
   ]
  },
  {
   "cell_type": "code",
   "execution_count": 8,
   "metadata": {},
   "outputs": [],
   "source": [
    "df.to_excel('inventory_test.xlsx', index=False)"
   ]
  },
  {
   "cell_type": "markdown",
   "metadata": {},
   "source": [
    "## Exploring Examples.csv data"
   ]
  },
  {
   "cell_type": "markdown",
   "metadata": {},
   "source": [
    "We explore the example file to achieve a deeper understanding on the information/fields of NCCT images\n",
    "By doing this we create an excel file with all DICOM fields for every of the example instances by getting all ``unique`` identifiers of the ``SeriesInstanceUID`` field."
   ]
  },
  {
   "cell_type": "code",
   "execution_count": 24,
   "metadata": {},
   "outputs": [
    {
     "name": "stdout",
     "output_type": "stream",
     "text": [
      "(25, 8)\n"
     ]
    },
    {
     "data": {
      "text/html": [
       "<div>\n",
       "<style scoped>\n",
       "    .dataframe tbody tr th:only-of-type {\n",
       "        vertical-align: middle;\n",
       "    }\n",
       "\n",
       "    .dataframe tbody tr th {\n",
       "        vertical-align: top;\n",
       "    }\n",
       "\n",
       "    .dataframe thead th {\n",
       "        text-align: right;\n",
       "    }\n",
       "</style>\n",
       "<table border=\"1\" class=\"dataframe\">\n",
       "  <thead>\n",
       "    <tr style=\"text-align: right;\">\n",
       "      <th></th>\n",
       "      <th>PatientID</th>\n",
       "      <th>StudyInstanceUID</th>\n",
       "      <th>SeriesInstanceUID</th>\n",
       "      <th>StudyDescription</th>\n",
       "      <th>SeriesDescription</th>\n",
       "      <th>PixelSpacing</th>\n",
       "      <th>SliceThickness</th>\n",
       "      <th>ConvolutionKernel</th>\n",
       "    </tr>\n",
       "  </thead>\n",
       "  <tbody>\n",
       "    <tr>\n",
       "      <th>0</th>\n",
       "      <td>E150</td>\n",
       "      <td>1.3.12.2.1107.5.1.4.32684195495775992931128954...</td>\n",
       "      <td>1.3.12.2.1107.5.1.4.31168712094706013552005368...</td>\n",
       "      <td>CT BRAIN WO, CTA BRAIN &amp; CEREBRAL PERFUSION (7...</td>\n",
       "      <td>Head__5_0__J37s__1</td>\n",
       "      <td>[0.46875, 0.46875]</td>\n",
       "      <td>5.0</td>\n",
       "      <td>['J37s', '1']</td>\n",
       "    </tr>\n",
       "    <tr>\n",
       "      <th>1</th>\n",
       "      <td>E155</td>\n",
       "      <td>1.3.12.2.1107.5.1.4.23885769149733257270910067...</td>\n",
       "      <td>1.3.12.2.1107.5.1.4.31225837177471900865985511...</td>\n",
       "      <td>CT BRAIN WO, CTA BRAIN &amp; CEREBRAL PERFUSION (7...</td>\n",
       "      <td>Head__5_0__J37s__1</td>\n",
       "      <td>[0.46875, 0.46875]</td>\n",
       "      <td>5.0</td>\n",
       "      <td>['J37s', '1']</td>\n",
       "    </tr>\n",
       "  </tbody>\n",
       "</table>\n",
       "</div>"
      ],
      "text/plain": [
       "  PatientID                                   StudyInstanceUID  \\\n",
       "0      E150  1.3.12.2.1107.5.1.4.32684195495775992931128954...   \n",
       "1      E155  1.3.12.2.1107.5.1.4.23885769149733257270910067...   \n",
       "\n",
       "                                   SeriesInstanceUID  \\\n",
       "0  1.3.12.2.1107.5.1.4.31168712094706013552005368...   \n",
       "1  1.3.12.2.1107.5.1.4.31225837177471900865985511...   \n",
       "\n",
       "                                    StudyDescription   SeriesDescription  \\\n",
       "0  CT BRAIN WO, CTA BRAIN & CEREBRAL PERFUSION (7...  Head__5_0__J37s__1   \n",
       "1  CT BRAIN WO, CTA BRAIN & CEREBRAL PERFUSION (7...  Head__5_0__J37s__1   \n",
       "\n",
       "         PixelSpacing  SliceThickness ConvolutionKernel  \n",
       "0  [0.46875, 0.46875]             5.0     ['J37s', '1']  \n",
       "1  [0.46875, 0.46875]             5.0     ['J37s', '1']  "
      ]
     },
     "execution_count": 24,
     "metadata": {},
     "output_type": "execute_result"
    }
   ],
   "source": [
    "df2 = pd.read_csv(\"example.csv\")\n",
    "print(df2.shape)\n",
    "df2.head(2)"
   ]
  },
  {
   "cell_type": "code",
   "execution_count": 26,
   "metadata": {},
   "outputs": [
    {
     "name": "stdout",
     "output_type": "stream",
     "text": [
      "25\n",
      "['1.3.12.2.1107.5.1.4.311687120947060135520053681636376863046', '1.3.12.2.1107.5.1.4.312258371774719008659855117295968314669', '1.3.12.2.1107.5.1.4.19336894898411098690550601021425163460', '1.3.12.2.1107.5.1.4.201563371198288011919329422932203773537', '1.3.12.2.1107.5.1.4.86723521497130828333795468585801256582', '1.3.12.2.1107.5.1.4.178092708803399546524878855211014937434', '1.3.12.2.1107.5.1.4.282376521307071244316854120254008724244', '1.3.12.2.1107.5.1.4.256163344752846767866745916209868773467', '1.3.12.2.1107.5.1.4.9705880275585620621749485170460468499', '1.3.12.2.1107.5.1.4.18456855111763366437866153641678674005', '1.3.12.2.1107.5.1.4.8167708748792602775608566355216663250', '1.3.12.2.1107.5.1.4.110952798673385600635323023171560883970', '1.3.12.2.1107.5.1.4.45794954103512473475448654137847772961', '1.3.12.2.1107.5.1.4.313170610233070016233741393443607423794', '1.3.12.2.1107.5.1.4.277860558742256469027844731064080524865', '1.3.12.2.1107.5.1.4.51444219027449397256146662494276469899', '1.3.12.2.1107.5.1.4.266887058390285934041878060741150532885', '1.3.12.2.1107.5.1.4.304972186561836598274592585377495817415', '1.3.12.2.1107.5.1.4.67984244341938018585712722659050056696', '1.3.12.2.1107.5.1.4.94258543244212945685053721629734238342', '1.3.12.2.1107.5.1.4.69212616189880928927122029777164500733', '1.3.12.2.1107.5.1.4.237017575247677289648937188248029948413', '1.3.12.2.1107.5.1.4.284271366468063284173271569480939906164', '1.3.12.2.1107.5.1.4.144850010000579207953382052559811066623', '1.3.12.2.1107.5.1.4.256926315590220472262875241035968310588']\n"
     ]
    }
   ],
   "source": [
    "series_instances_list = df2['SeriesInstanceUID'].tolist()\n",
    "print(len(series_instances_list))\n",
    "print(series_instances_list)"
   ]
  },
  {
   "cell_type": "code",
   "execution_count": 28,
   "metadata": {},
   "outputs": [
    {
     "name": "stdout",
     "output_type": "stream",
     "text": [
      "(25, 178)\n"
     ]
    }
   ],
   "source": [
    "example_df = df[df['SeriesInstanceUID'].isin(series_instances_list)]\n",
    "print(example_df.shape)\n",
    "example_df.to_excel('example_complete.xlsx')"
   ]
  },
  {
   "cell_type": "markdown",
   "metadata": {},
   "source": [
    "We have effectively created the ``example_complete.xlsx`` file to dive further into the data"
   ]
  },
  {
   "cell_type": "markdown",
   "metadata": {},
   "source": [
    "# Filtering EXERCISE\n",
    "\n",
    "The correct NCCT images must meet the following characteristics:\n",
    "\n",
    "- Non-contrast image\n",
    "- CT modality\n",
    "- Axial orientation\n",
    "- Slice thickness between 2.5 and 5 mm\n",
    "- First (in time) NCCT acquired\n",
    "\n",
    "Since determining the non-contrast image appears to be more challenging, as there are no specific metrics provided in the exercise or the DICOM documentation, we will first address and filter out the fields that are considered more straightforward.\n",
    "\n",
    "Since we don't have clear metrics for defining an NCCT image, my strategy is to exclude instances that do not meet the criteria for an NCCT image."
   ]
  },
  {
   "cell_type": "markdown",
   "metadata": {},
   "source": [
    "## Filter Modality"
   ]
  },
  {
   "cell_type": "code",
   "execution_count": 159,
   "metadata": {},
   "outputs": [
    {
     "data": {
      "text/plain": [
       "array(['CT', 'MR', 'OT', 'XA'], dtype=object)"
      ]
     },
     "execution_count": 159,
     "metadata": {},
     "output_type": "execute_result"
    }
   ],
   "source": [
    "df['Modality'].unique()"
   ]
  },
  {
   "cell_type": "code",
   "execution_count": 160,
   "metadata": {},
   "outputs": [
    {
     "data": {
      "text/plain": [
       "array(['CT\\\\SR', 'CT', 'MR\\\\SR', 'MR', 'OT\\\\MR\\\\SR', 'OT\\\\CT\\\\SR',\n",
       "       'KO\\\\CT', 'CT\\\\SR\\\\PR', 'OT\\\\KO\\\\CT', 'MR\\\\SR\\\\PR',\n",
       "       'OT\\\\KO\\\\CT\\\\SR', 'OT\\\\CT', 'XA'], dtype=object)"
      ]
     },
     "execution_count": 160,
     "metadata": {},
     "output_type": "execute_result"
    }
   ],
   "source": [
    "df['ModalitiesInStudy'].unique()"
   ]
  },
  {
   "cell_type": "code",
   "execution_count": 161,
   "metadata": {},
   "outputs": [
    {
     "data": {
      "text/plain": [
       "(6873, 178)"
      ]
     },
     "execution_count": 161,
     "metadata": {},
     "output_type": "execute_result"
    }
   ],
   "source": [
    "df = df[df['Modality'] == 'CT']\n",
    "df= df[df['ModalitiesInStudy'].str.contains('CT', case=False, na=False)]\n",
    "df.shape"
   ]
  },
  {
   "cell_type": "markdown",
   "metadata": {},
   "source": [
    "## Filter by Thickness"
   ]
  },
  {
   "cell_type": "markdown",
   "metadata": {},
   "source": [
    "According to the DICOM documentation, the Slice Thickness field is in ``mm`` and it is a required value although it can be left empty if unknown.\n",
    "\n",
    "[Reference to C.7.6.2.1 Image Plane Module Attribute Descriptions](https://dicom.nema.org/medical/dicom/current/output/chtml/part03/sect_C.7.6.2.html#table_C.7-10)"
   ]
  },
  {
   "cell_type": "code",
   "execution_count": 162,
   "metadata": {},
   "outputs": [
    {
     "data": {
      "text/plain": [
       "(2013, 178)"
      ]
     },
     "execution_count": 162,
     "metadata": {},
     "output_type": "execute_result"
    }
   ],
   "source": [
    "df = df[(df['SliceThickness'] >= 2.5) & (df['SliceThickness'] <= 5)]\n",
    "df.shape"
   ]
  },
  {
   "cell_type": "code",
   "execution_count": 163,
   "metadata": {},
   "outputs": [
    {
     "data": {
      "text/plain": [
       "325"
      ]
     },
     "execution_count": 163,
     "metadata": {},
     "output_type": "execute_result"
    }
   ],
   "source": [
    "df['PatientID'].nunique()"
   ]
  },
  {
   "cell_type": "markdown",
   "metadata": {},
   "source": [
    "We can see how applying conditions that are 100% clear and unambiguous the unique patient count has reduced from 326 to 325, suggesting that **not all patients may have NCCT images in this inventory file**."
   ]
  },
  {
   "cell_type": "code",
   "execution_count": null,
   "metadata": {},
   "outputs": [],
   "source": [
    "df.to_excel('ct_filtered.xlsx')"
   ]
  },
  {
   "cell_type": "markdown",
   "metadata": {},
   "source": [
    "After applying some of the filters we have considerably reduced the size of the DataFrame from 8458 instances to just 2013. Further exploration inside the filtered Excel file gives us some insights in which columns can we have a better look at next. We use Excel since the amount of columns is fairly large and Excel offers a better UI to navigate through this data."
   ]
  },
  {
   "cell_type": "markdown",
   "metadata": {},
   "source": [
    "## Relevant Columns"
   ]
  },
  {
   "cell_type": "code",
   "execution_count": 164,
   "metadata": {},
   "outputs": [],
   "source": [
    "relevant_columns_list = ['Modality', 'StudyDescription', 'SeriesDescription', 'LastUpdate', 'ConvolutionKernel', 'ImageOrientationPatient', 'SliceThickness', 'ImageType']"
   ]
  },
  {
   "cell_type": "markdown",
   "metadata": {},
   "source": [
    "## Distinct values"
   ]
  },
  {
   "cell_type": "markdown",
   "metadata": {},
   "source": [
    "We select some potentialy relevant columns to perform some further exploration. We will now check the distinct values for each of this fields and see if we can find a pattern to include or exclude certain rows. "
   ]
  },
  {
   "cell_type": "code",
   "execution_count": 165,
   "metadata": {},
   "outputs": [],
   "source": [
    "unique_values = {col: df[col].unique() for col in relevant_columns_list}"
   ]
  },
  {
   "cell_type": "code",
   "execution_count": 166,
   "metadata": {},
   "outputs": [
    {
     "name": "stdout",
     "output_type": "stream",
     "text": [
      "\n",
      "Column: Modality\n",
      "Distinct values (1):\n",
      "   CT\n",
      "\n",
      "Column: StudyDescription\n",
      "Distinct values (13):\n",
      "   CT BRAIN WO CONTRAST (70450)\n",
      "   CT BRAIN WO, CTA BRAIN & CEREBRAL PERFUSION (70496, 0042T)\n",
      "   CT ANGIO HEAD & NECK W/WO (70496, 70498)\n",
      "   CTA BRAIN & CEREBRAL PERFUSION (70496, 0042T)\n",
      "   EXTERNAL CT-STORE & INTERPRET\n",
      "   CT ANGIO HEAD W/WO CONTRAST (70496)\n",
      "   EXTERNAL CT - STORE ONLY\n",
      "   EXTERNAL CT - STORE ONLY - RAD\n",
      "   EXTERNAL CT BRAIN - STORE ONLY - RAD\n",
      "   EXTERNAL CT BRAIN - STORE ONLY\n",
      "   EXTERNAL CTA HEAD - STORE ONLY - RAD\n",
      "   EXTERNAL CTA HEAD - STORE ONLY\n",
      "   EXTERNAL CT BRAIN INTERPRET\n",
      "\n",
      "Column: SeriesDescription\n",
      "Distinct values (197):\n",
      "   Helical_Head__5_0__J37s\n",
      "   Helical_Head__5_0__Axial_MPR\n",
      "   Helical_Head_Coronal\n",
      "   Helical_Head_Sagittal\n",
      "   Helical_Head__3_0__J70h\n",
      "   Head__5_0__Hc40__2\n",
      "   Bone__Head__3_0__Br64__2\n",
      "   Straightened_CT_Series\n",
      "   Head__5_0__Axial\n",
      "   Head__5_0__Coronal\n",
      "   Head__5_0__Sagittal\n",
      "   Head__5_0__J37s__1\n",
      "   Head__3_0__J70h__1\n",
      "   Head__5_0_Axial\n",
      "   Helical_Head__5_0__H41s\n",
      "   Bone_Head__3_0__H70h\n",
      "   Infant_Head__4_0__Hr38__2\n",
      "   Infant_Head__4_0__Axial\n",
      "   e_ASPECTS__10___Detected_side__None\n",
      "   Brainomix_Straightened\n",
      "   Head__5_0__J37f__1\n",
      "   Head__3_0__Q40f__1\n",
      "   Head__5_0__MPR__ax\n",
      "   Head__5_0__MPR__cor\n",
      "   Head__5_0__MPR__sag\n",
      "   Head___5_0__Hc40__2\n",
      "   Head___5_0__MPR__Axial\n",
      "   Head___5_0__MPR__Coronal\n",
      "   Head___5_0__MPR__Sagittal\n",
      "   Head___3_0__Hr68__2\n",
      "   Head__5_0__J37s__1___iMAR\n",
      "   Head__5_0__H41s\n",
      "   Head__5_0__Axial_MPR\n",
      "   Head_Angio__3_0__Coronal\n",
      "   Head_Angio__3_0__Sagittal\n",
      "   Head_Angio__3_0__Axial\n",
      "   Head_Seq__4_8__H41s\n",
      "   Head_Angio__3_0__J30f__2\n",
      "   Helical_Head_5_0_H41s\n",
      "   cor\n",
      "   sag\n",
      "   axial\n",
      "   Head__5_0__H37s\n",
      "   COR_MIP\n",
      "   SAG_MIP\n",
      "   AXIAL_MIP\n",
      "   AXIAL\n",
      "   CORONAL\n",
      "   SAGITTAL\n",
      "   HELICAL_HEAD\n",
      "   Recon_2__HELICAL_HEAD\n",
      "   MIP_AX\n",
      "   MIP_COR\n",
      "   MIP_SAG\n",
      "   Sagittals__5_0\n",
      "   Coronals__5_0\n",
      "   _MIP_AXIAL\n",
      "   _MIP_COR\n",
      "   _MIP_SAG\n",
      "   Head__5_0__COR\n",
      "   Head__5_0__SAG\n",
      "   MIP_AXIAL\n",
      "   MIP_CORONAL\n",
      "   MIP_SAGITTAL\n",
      "   MIP_AXIAL_DELAY\n",
      "   MIP_CORONAL_DELAY\n",
      "   MIP_SAGITTAL_DELAY\n",
      "   Head__5_0__H41f\n",
      "   ANG__5X5__UC_25__iDose\n",
      "   axial_reformat\n",
      "   coronals\n",
      "   sagittal\n",
      "   axial_reformat_bone\n",
      "   Head_SPIRAL_Spiral\n",
      "   CTA_Carotid_Axial\n",
      "   Coronal\n",
      "   Head__4_0__H31s\n",
      "   Body_3_000\n",
      "   Head\n",
      "   Bone\n",
      "   Head__5_0__MPR\n",
      "   Head__3_0__H70h\n",
      "   C_Spine_ST\n",
      "   C_Spine_coronal\n",
      "   C_Spine_sagittal\n",
      "   C_Spine_AXIAL\n",
      "   C_Spine\n",
      "   Head__5_0__Hc40__3\n",
      "   MPR_tra_3mm_Range\n",
      "   MPR_sag_3mm_Range\n",
      "   MPR_cor_3mm_Range\n",
      "   MIP_tra_3mm_Range\n",
      "   MIP_3mm_Range\n",
      "   MIP_cor_3mm_Range\n",
      "   Cor_mip\n",
      "   sag_mip\n",
      "   ax_mip\n",
      "   COR\n",
      "   SAG\n",
      "   Bone_Head__3_0__Br64__2\n",
      "   Head_Neck_CTA__3_0__Bv36__3\n",
      "   Head_Neck_CTA__3_0__MIP__cor\n",
      "   Head_Neck_CTA__3_0__MIP__sag\n",
      "   Head_Neck_CTA__3_0__MIP__ax\n",
      "   MIP_sag_3mm_Range\n",
      "   abdomen_and_pelvis__W_O\n",
      "   lung\n",
      "   Head_5mm_soft_tissue\n",
      "   Head_3mm_coronal\n",
      "   Head_3mm_sagittal\n",
      "   Head__3_0__J40s_Soft\n",
      "   Head__3_0__J70h_Bone\n",
      "   Head__Cor\n",
      "   Head_Sag\n",
      "   Head_WO__3_0__J30f__SOFT\n",
      "   Head_WO__3_0__H60f_BONE\n",
      "   COR_Head_WO__3_0___SOFT\n",
      "   Head__4_0__H60s\n",
      "   nan\n",
      "   Brain___PACS\n",
      "   Bone___PACS\n",
      "   CORONAL_MIP\n",
      "   SAGITTAL_MIP\n",
      "   Coronal_Head__4_0__MPR\n",
      "   Sagittal_Head__4_0__MPR\n",
      "   Head_repeat__4_0__H60s\n",
      "   Head_repeat_4_0__H31s\n",
      "   Standard_wo\n",
      "   SOFT\n",
      "   noncontrast_Head_3_0\n",
      "   Bone_3_0\n",
      "   Head_3_000\n",
      "   Head__3_0__J30s\n",
      "   Head__3_0__J70h\n",
      "   Head_5_0\n",
      "   brain_Head_3_0\n",
      "   bone_Bone_3_0\n",
      "   w_o_Head_3_000\n",
      "   Head_3_0\n",
      "   brain_ST_Head_3_0\n",
      "   w_o_ST_Head_3_000\n",
      "   AXIAL_ST\n",
      "   AXIAL_BONE\n",
      "   e_ASPECTS__9___Detected_side__Right\n",
      "   AXIAL_WO\n",
      "   e_ASPECTS__7___Detected_side__Right\n",
      "   mip_cor\n",
      "   mip_sag\n",
      "   mip_axial\n",
      "   delay__1\n",
      "   delay__2\n",
      "   Head__3_0__J37s__1\n",
      "   Head__3_0__H60s\n",
      "   Head_Angio__5_0__MIP__CORONAL\n",
      "   Head_Angio__5_0__MIP__SAGITTAL\n",
      "   AXIAL_HEAD\n",
      "   AXIAL_HEAD_BONE\n",
      "   COR_HEAD\n",
      "   AXIAL_BONE_HEAD\n",
      "   noncontrast_Head_3_000\n",
      "   Brain_XC___5_0__H31s\n",
      "   Brain_XC___3_0__MPR_SAG\n",
      "   Brain_XC___3_0__MPR_COR\n",
      "   e_ASPECTS__8___Detected_side__Right\n",
      "   Bone_3_000__Sagittal__Sagittal_Sagittal_FC30\n",
      "   Head_3_0__Axial____FC64\n",
      "   Bone_3_0__Axial____FC30\n",
      "   Head_3_000__Coronal__Coronal_Coronal_FC64\n",
      "   Head_3_000__Sagittal__Sagittal_Sagittal_FC64\n",
      "   Bone_3_000__Coronal__Coronal_Coronal_FC30\n",
      "   e_ASPECTS__8___Detected_side__Left\n",
      "   Sagittal\n",
      "   HEAD_3_75mm_Soft\n",
      "   Head_2_5_Bone\n",
      "   SAGITTAL_3MM\n",
      "   CORONAL_3MM\n",
      "   RAPID_CT_P_Summary\n",
      "   RAPID_rCBV_color\n",
      "   RAPID_rCBF_color\n",
      "   RAPID_MTT_color\n",
      "   RAPID_Tmax_color\n",
      "   RAPID_AIF_VOF_Location\n",
      "   5MM_ST\n",
      "   2_5_MM_BONE\n",
      "   HEAD_CORONAL\n",
      "   HEAD_SAGITTAL\n",
      "   e_ASPECTS__9___Detected_side__Left\n",
      "   Bone_5_0\n",
      "   DE_Head__5_0__Hc40__2__F_0_5\n",
      "   Axial_DE__F_0_5\n",
      "   Coronal_DE__F_0_5\n",
      "   Sagittal_DE__F_0_5\n",
      "   DE_Head__3_0__Br64__2__F_0_5\n",
      "   DE_CarotidAngio__3_0__Bv36__3__F_0_6\n",
      "   Coronal_DE__F_0_6\n",
      "   Sagittal_DE__F_0_6\n",
      "   Axial_DE__F_0_6\n",
      "\n",
      "Column: ConvolutionKernel\n",
      "Distinct values (53):\n",
      "   J37s\\1\n",
      "   J70h\\1\n",
      "   Hc40s\\2\n",
      "   Br64s\\2\n",
      "   nan\n",
      "   H41s\n",
      "   H70h\n",
      "   Hr38s\\2\n",
      "   J37f\\1\n",
      "   Q40f\\1\n",
      "   Hr68h\\2\n",
      "   J30f\\2\n",
      "   H37s\n",
      "   H20f\n",
      "   H40s\n",
      "   STANDARD\n",
      "   BONE\n",
      "   H41f\n",
      "   UC\n",
      "   H31f\n",
      "   H60f\n",
      "   I40f\\3\n",
      "   B30f\n",
      "   H31s\n",
      "   FC03\n",
      "   J37s\\3\n",
      "   J70h\\3\n",
      "   Hc40s\n",
      "   I40s\\3\n",
      "   B60s\n",
      "   Hc40s\\3\n",
      "   Bv36d\\3\n",
      "   Bv36d\n",
      "   LUNG\n",
      "   J37f\\3\n",
      "   H40f\n",
      "   J40s\\2\n",
      "   J30f\\3\n",
      "   H60s\n",
      "   01\n",
      "   54\n",
      "   42\n",
      "   SOFT\n",
      "   FC21\n",
      "   FC30\n",
      "   J30s\\1\n",
      "   FC26\n",
      "   FC68\n",
      "   FC35\n",
      "   BONEPLUS\n",
      "   Hr36d\n",
      "   B20f\n",
      "   FC64\n",
      "\n",
      "Column: SliceThickness\n",
      "Distinct values (15):\n",
      "   5.0\n",
      "   3.0\n",
      "   4.99999\n",
      "   4.96273\n",
      "   4.85148\n",
      "   4.0\n",
      "   4.95722\n",
      "   4.97261\n",
      "   4.94508\n",
      "   4.93143\n",
      "   4.95134\n",
      "   4.87185\n",
      "   4.8\n",
      "   2.5\n",
      "   3.75\n",
      "\n",
      "Column: ImageType\n",
      "Distinct values (26):\n",
      "   ORIGINAL\\PRIMARY\\AXIAL\\CT_SOM5 SPI\n",
      "   DERIVED\\PRIMARY\\AXIAL\\CT_SOM5 MPR\n",
      "   DERIVED\\SECONDARY\\AXIAL\n",
      "   DERIVED\\SECONDARY\\LOCALIZER\n",
      "   DERIVED\\PRIMARY\\LOCALIZER\\CT_SOM5 MPR\n",
      "   DERIVED\\PRIMARY\\AXIAL\\CT_SOM5 MIP\n",
      "   ORIGINAL\\PRIMARY\\AXIAL\\CT_SOM5 SEQ\n",
      "   DERIVED\\SECONDARY\\OTHER\\CSA MPR THICK\\\\AXIAL\\CT_SOM5 SPI\n",
      "   DERIVED\\SECONDARY\\OTHER\\CSA MIP THIN\\\\AXIAL\\CT_SOM5 SPI\n",
      "   ORIGINAL\\PRIMARY\\AXIAL\n",
      "   DERIVED\\PRIMARY\\LOCALIZER\\CT_SOM5 MIP\n",
      "   DERIVED\\SECONDARY\\MPR\n",
      "   DERIVED\\PRIMARY\\MPR\n",
      "   DERIVED\\SECONDARY\\\\MIP THIN\\\\\\PARALLEL\n",
      "   DERIVED\\SECONDARY\\AXIAL\\MPR THICK\\\\\\PARALLEL\n",
      "   DERIVED\\SECONDARY\\\\MIP THIN\\CSAMANIPULATED\\\\PARALLEL\n",
      "   DERIVED\\SECONDARY\\AXIAL\\MIP THIN\\\\\\PARALLEL\n",
      "   DERIVED\\SECONDARY\\AXIAL\\MIP THIN\\CSAMANIPULATED\\\\PARALLEL\n",
      "   ORIGINAL\\PRIMARY\\LOCALIZER\n",
      "   ORIGINAL\\PRIMARY\\AXIAL\\VOLUME\n",
      "   DERIVED\\SECONDARY\\OTHER\\CSA MIP THIN\\\\AXIAL\\CT_SOM5 SPI\\CSA RESAMPLED\n",
      "   DERIVED\\SECONDARY\\REFORMATTED\\AVERAGE\n",
      "   DERIVED\\SECONDARY\\OTHER\n",
      "   ORIGINAL\\PRIMARY\\AXIAL\\CT_SOM5 SPI DUAL\\STD\\DNRG\\DET_AB\n",
      "   DERIVED\\PRIMARY\\LOCALIZER\\CT_SOM5 MPR\\STD\\DNRG\\DET_AB\n",
      "   DERIVED\\PRIMARY\\LOCALIZER\\CT_SOM5 MIP\\STD\\DNRG\\DET_AB\n"
     ]
    }
   ],
   "source": [
    "for col, unique_vals in unique_values.items():\n",
    "    if col == 'LastUpdate' or col == 'ImageOrientationPatient':\n",
    "        continue\n",
    "    print(f\"\\nColumn: {col}\")\n",
    "    print(f\"Distinct values ({len(unique_vals)}):\")\n",
    "    for val in unique_vals:\n",
    "        print(f\"   {val}\")"
   ]
  },
  {
   "cell_type": "markdown",
   "metadata": {},
   "source": [
    "## Filter by ImageType"
   ]
  },
  {
   "cell_type": "markdown",
   "metadata": {},
   "source": [
    "After closer review of the DICOM documentation \n",
    "[Reference to DICOM C.7.6.1.1.2 Image Type](https://dicom.innolitics.com/ciods/ct-image/general-image/00080008)\n",
    "we decide to only include instances with the ``PRIMARY`` tag in the ImageType field. The decision to include this tag, rather than excluding the SECONDARY tag, comes from the fact that it is a required field according to the documentation."
   ]
  },
  {
   "cell_type": "code",
   "execution_count": 167,
   "metadata": {},
   "outputs": [
    {
     "data": {
      "text/plain": [
       "(1761, 178)"
      ]
     },
     "execution_count": 167,
     "metadata": {},
     "output_type": "execute_result"
    }
   ],
   "source": [
    "df = df[df['ImageType'].str.contains('PRIMARY', case=False, na=False)]\n",
    "df.shape"
   ]
  },
  {
   "cell_type": "code",
   "execution_count": 169,
   "metadata": {},
   "outputs": [
    {
     "data": {
      "text/plain": [
       "324"
      ]
     },
     "execution_count": 169,
     "metadata": {},
     "output_type": "execute_result"
    }
   ],
   "source": [
    "df['PatientID'].nunique()"
   ]
  },
  {
   "cell_type": "markdown",
   "metadata": {},
   "source": [
    "According to the documentation in\n",
    "[Reference to DICOM C.8.2.1.1.1 Image Type](https://dicom.innolitics.com/ciods/ct-image/ct-image/00080008)\n",
    "the 3rd tag value in the ``ImageType`` field is optional and differenciates between AXIAL and LOCALIZER. Since it is an optional tag, it may or may not be included so we filter by excluding images that have the localizer tag. Pictures that belong to the localizer cathegory are not fit to train our model."
   ]
  },
  {
   "cell_type": "code",
   "execution_count": 170,
   "metadata": {},
   "outputs": [
    {
     "data": {
      "text/plain": [
       "(1631, 178)"
      ]
     },
     "execution_count": 170,
     "metadata": {},
     "output_type": "execute_result"
    }
   ],
   "source": [
    "df = df[df['ImageType'].str.contains('localizer', case=False, na=False) == False]\n",
    "df.shape"
   ]
  },
  {
   "cell_type": "code",
   "execution_count": 171,
   "metadata": {},
   "outputs": [
    {
     "data": {
      "text/plain": [
       "array(['CT BRAIN WO CONTRAST (70450)',\n",
       "       'CT BRAIN WO, CTA BRAIN & CEREBRAL PERFUSION (70496, 0042T)',\n",
       "       'CT ANGIO HEAD & NECK W/WO (70496, 70498)',\n",
       "       'EXTERNAL CT-STORE & INTERPRET',\n",
       "       'CT ANGIO HEAD W/WO CONTRAST (70496)',\n",
       "       'CTA BRAIN & CEREBRAL PERFUSION (70496, 0042T)',\n",
       "       'EXTERNAL CT - STORE ONLY', 'EXTERNAL CT - STORE ONLY - RAD',\n",
       "       'EXTERNAL CT BRAIN - STORE ONLY - RAD',\n",
       "       'EXTERNAL CT BRAIN - STORE ONLY',\n",
       "       'EXTERNAL CTA HEAD - STORE ONLY - RAD',\n",
       "       'EXTERNAL CT BRAIN INTERPRET', 'EXTERNAL CTA HEAD - STORE ONLY'],\n",
       "      dtype=object)"
      ]
     },
     "execution_count": 171,
     "metadata": {},
     "output_type": "execute_result"
    }
   ],
   "source": [
    "df['StudyDescription'].unique()"
   ]
  },
  {
   "cell_type": "markdown",
   "metadata": {},
   "source": [
    "## Filter by Axial Pictures"
   ]
  },
  {
   "cell_type": "markdown",
   "metadata": {},
   "source": [
    "We need to define a way to differenciate further between axial images and non-axial images. The documentation suggests that the orientation should be [1, 0, 0, 0, 1, 0] although judging from the example.csv file where instances of some NCCT images are displayed, there seems to be some small tolerance threshold to allow for small angle deviations. "
   ]
  },
  {
   "cell_type": "code",
   "execution_count": 172,
   "metadata": {},
   "outputs": [],
   "source": [
    "df[['X_x', 'X_y', 'X_z', 'Y_x', 'Y_y', 'Y_z']] = df['ImageOrientationPatient'].str.split('\\\\', expand=True).astype(float)"
   ]
  },
  {
   "cell_type": "code",
   "execution_count": 173,
   "metadata": {},
   "outputs": [],
   "source": [
    "def is_axial(row, tolerance=0.06):\n",
    "\n",
    "    if 'axial' in row['ImageType'].lower():\n",
    "        return True\n",
    "    \n",
    "    return (\n",
    "        abs(row['X_x'] - 1) <= tolerance and\n",
    "        abs(row['X_y']) <= tolerance and\n",
    "        abs(row['X_z']) <= tolerance and\n",
    "        abs(row['Y_x']) <= tolerance and\n",
    "        abs(row['Y_y'] - 1) <= tolerance and\n",
    "        abs(row['Y_z']) <= tolerance\n",
    "    )"
   ]
  },
  {
   "cell_type": "code",
   "execution_count": 174,
   "metadata": {},
   "outputs": [
    {
     "data": {
      "text/plain": [
       "(1631, 185)"
      ]
     },
     "execution_count": 174,
     "metadata": {},
     "output_type": "execute_result"
    }
   ],
   "source": [
    "df['IsAxial'] = df.apply(lambda row: is_axial(row, tolerance=0.06), axis=1)\n",
    "df.shape"
   ]
  },
  {
   "cell_type": "code",
   "execution_count": 175,
   "metadata": {},
   "outputs": [
    {
     "name": "stdout",
     "output_type": "stream",
     "text": [
      "                             ImageOrientationPatient  IsAxial\n",
      "1                                        1\\0\\0\\0\\1\\0     True\n",
      "2  0.99722881968274\\-0.074395437993\\0\\0.058872430...     True\n",
      "3  0.99567980109701\\-0.092853291204\\0\\-0.04248384...     True\n",
      "4  0.07417242893302\\0.74222162601923\\-0.666037167...     True\n",
      "5                                        1\\0\\0\\0\\1\\0     True\n"
     ]
    }
   ],
   "source": [
    "print(df[['ImageOrientationPatient', 'IsAxial']].head())"
   ]
  },
  {
   "cell_type": "code",
   "execution_count": 176,
   "metadata": {},
   "outputs": [
    {
     "data": {
      "text/plain": [
       "True     1608\n",
       "False      23\n",
       "Name: IsAxial, dtype: int64"
      ]
     },
     "execution_count": 176,
     "metadata": {},
     "output_type": "execute_result"
    }
   ],
   "source": [
    "df['IsAxial'].value_counts()\n"
   ]
  },
  {
   "cell_type": "markdown",
   "metadata": {},
   "source": [
    "We only include those instances where the IsAxial field is ``True``"
   ]
  },
  {
   "cell_type": "code",
   "execution_count": 177,
   "metadata": {},
   "outputs": [
    {
     "data": {
      "text/plain": [
       "(1608, 185)"
      ]
     },
     "execution_count": 177,
     "metadata": {},
     "output_type": "execute_result"
    }
   ],
   "source": [
    "df = df[df['IsAxial'] == True]\n",
    "df.shape"
   ]
  },
  {
   "cell_type": "code",
   "execution_count": 178,
   "metadata": {},
   "outputs": [
    {
     "data": {
      "text/plain": [
       "array(['CT BRAIN WO CONTRAST (70450)',\n",
       "       'CT BRAIN WO, CTA BRAIN & CEREBRAL PERFUSION (70496, 0042T)',\n",
       "       'CT ANGIO HEAD & NECK W/WO (70496, 70498)',\n",
       "       'EXTERNAL CT-STORE & INTERPRET',\n",
       "       'CT ANGIO HEAD W/WO CONTRAST (70496)',\n",
       "       'CTA BRAIN & CEREBRAL PERFUSION (70496, 0042T)',\n",
       "       'EXTERNAL CT - STORE ONLY', 'EXTERNAL CT - STORE ONLY - RAD',\n",
       "       'EXTERNAL CT BRAIN - STORE ONLY - RAD',\n",
       "       'EXTERNAL CT BRAIN - STORE ONLY',\n",
       "       'EXTERNAL CTA HEAD - STORE ONLY - RAD',\n",
       "       'EXTERNAL CT BRAIN INTERPRET', 'EXTERNAL CTA HEAD - STORE ONLY'],\n",
       "      dtype=object)"
      ]
     },
     "execution_count": 178,
     "metadata": {},
     "output_type": "execute_result"
    }
   ],
   "source": [
    "df['StudyDescription'].unique()"
   ]
  },
  {
   "cell_type": "code",
   "execution_count": 76,
   "metadata": {},
   "outputs": [],
   "source": [
    "df_filtered2 = df \n",
    "df_filtered2.to_excel('filtered_more.xlsx')"
   ]
  },
  {
   "cell_type": "markdown",
   "metadata": {},
   "source": [
    "We save again our filtered DataFrame to continue further exploration in Excel"
   ]
  },
  {
   "cell_type": "markdown",
   "metadata": {},
   "source": [
    "## Distinct values exploring\n",
    "\n",
    "We can see a certain pattern in the SeriesDescription field and ImageType"
   ]
  },
  {
   "cell_type": "code",
   "execution_count": 179,
   "metadata": {},
   "outputs": [
    {
     "data": {
      "text/plain": [
       "(1608, 185)"
      ]
     },
     "execution_count": 179,
     "metadata": {},
     "output_type": "execute_result"
    }
   ],
   "source": [
    "df_filtered2 = df\n",
    "df_filtered2.shape"
   ]
  },
  {
   "cell_type": "code",
   "execution_count": 180,
   "metadata": {},
   "outputs": [],
   "source": [
    "relevant_columns_list2 = ['Modality', 'StudyDescription', 'SeriesDescription', 'ImageType', 'BodyPartExamined']"
   ]
  },
  {
   "cell_type": "code",
   "execution_count": 181,
   "metadata": {},
   "outputs": [],
   "source": [
    "unique_values2 = {col : df_filtered2[col].unique() for col in relevant_columns_list2}\n",
    "\n"
   ]
  },
  {
   "cell_type": "code",
   "execution_count": 182,
   "metadata": {},
   "outputs": [
    {
     "name": "stdout",
     "output_type": "stream",
     "text": [
      "\n",
      "Column: Modality\n",
      "Distinct values (1):\n",
      "   CT\n",
      "\n",
      "Column: StudyDescription\n",
      "Distinct values (13):\n",
      "   CT BRAIN WO CONTRAST (70450)\n",
      "   CT BRAIN WO, CTA BRAIN & CEREBRAL PERFUSION (70496, 0042T)\n",
      "   CT ANGIO HEAD & NECK W/WO (70496, 70498)\n",
      "   EXTERNAL CT-STORE & INTERPRET\n",
      "   CT ANGIO HEAD W/WO CONTRAST (70496)\n",
      "   CTA BRAIN & CEREBRAL PERFUSION (70496, 0042T)\n",
      "   EXTERNAL CT - STORE ONLY\n",
      "   EXTERNAL CT - STORE ONLY - RAD\n",
      "   EXTERNAL CT BRAIN - STORE ONLY - RAD\n",
      "   EXTERNAL CT BRAIN - STORE ONLY\n",
      "   EXTERNAL CTA HEAD - STORE ONLY - RAD\n",
      "   EXTERNAL CT BRAIN INTERPRET\n",
      "   EXTERNAL CTA HEAD - STORE ONLY\n",
      "\n",
      "Column: SeriesDescription\n",
      "Distinct values (117):\n",
      "   Helical_Head__5_0__J37s\n",
      "   Helical_Head__5_0__Axial_MPR\n",
      "   Helical_Head_Coronal\n",
      "   Helical_Head_Sagittal\n",
      "   Helical_Head__3_0__J70h\n",
      "   Head__5_0__Hc40__2\n",
      "   Bone__Head__3_0__Br64__2\n",
      "   Head__5_0__Axial\n",
      "   Head__5_0__Coronal\n",
      "   Head__5_0__Sagittal\n",
      "   Head__5_0__J37s__1\n",
      "   Head__3_0__J70h__1\n",
      "   Head__5_0_Axial\n",
      "   Helical_Head__5_0__H41s\n",
      "   Bone_Head__3_0__H70h\n",
      "   Infant_Head__4_0__Hr38__2\n",
      "   Infant_Head__4_0__Axial\n",
      "   Head__5_0__J37f__1\n",
      "   Head__3_0__Q40f__1\n",
      "   Head__5_0__MPR__ax\n",
      "   Head__5_0__MPR__cor\n",
      "   Head__5_0__MPR__sag\n",
      "   Head___5_0__Hc40__2\n",
      "   Head___5_0__MPR__Axial\n",
      "   Head___5_0__MPR__Coronal\n",
      "   Head___5_0__MPR__Sagittal\n",
      "   Head___3_0__Hr68__2\n",
      "   Head__5_0__J37s__1___iMAR\n",
      "   Head__5_0__H41s\n",
      "   Head_Angio__3_0__Coronal\n",
      "   Head_Angio__3_0__Sagittal\n",
      "   Head_Angio__3_0__Axial\n",
      "   Head_Seq__4_8__H41s\n",
      "   Head_Angio__3_0__J30f__2\n",
      "   Helical_Head_5_0_H41s\n",
      "   Head__5_0__H37s\n",
      "   HELICAL_HEAD\n",
      "   Recon_2__HELICAL_HEAD\n",
      "   Head__5_0__COR\n",
      "   Head__5_0__SAG\n",
      "   Head__5_0__H41f\n",
      "   axial_reformat\n",
      "   coronals\n",
      "   sagittal\n",
      "   axial_reformat_bone\n",
      "   Head_SPIRAL_Spiral\n",
      "   CTA_Carotid_Axial\n",
      "   Coronal\n",
      "   Head__4_0__H31s\n",
      "   Head\n",
      "   Bone\n",
      "   Head__3_0__H70h\n",
      "   C_Spine_ST\n",
      "   C_Spine_coronal\n",
      "   C_Spine_sagittal\n",
      "   C_Spine_AXIAL\n",
      "   C_Spine\n",
      "   Head__5_0__Hc40__3\n",
      "   Bone_Head__3_0__Br64__2\n",
      "   Head_Neck_CTA__3_0__Bv36__3\n",
      "   abdomen_and_pelvis__W_O\n",
      "   lung\n",
      "   Head_5mm_soft_tissue\n",
      "   Head_3mm_coronal\n",
      "   Head_3mm_sagittal\n",
      "   Head__3_0__J40s_Soft\n",
      "   Head__3_0__J70h_Bone\n",
      "   Head__Cor\n",
      "   Head_Sag\n",
      "   Head_WO__3_0__J30f__SOFT\n",
      "   Head_WO__3_0__H60f_BONE\n",
      "   COR_Head_WO__3_0___SOFT\n",
      "   Head__4_0__H60s\n",
      "   Brain___PACS\n",
      "   Bone___PACS\n",
      "   Coronal_Head__4_0__MPR\n",
      "   Sagittal_Head__4_0__MPR\n",
      "   Head_repeat__4_0__H60s\n",
      "   Head_repeat_4_0__H31s\n",
      "   Standard_wo\n",
      "   SOFT\n",
      "   noncontrast_Head_3_0\n",
      "   Bone_3_0\n",
      "   cor\n",
      "   Head__3_0__J30s\n",
      "   Head__3_0__J70h\n",
      "   Head_5_0\n",
      "   brain_Head_3_0\n",
      "   bone_Bone_3_0\n",
      "   Head_3_0\n",
      "   brain_ST_Head_3_0\n",
      "   AXIAL_ST\n",
      "   AXIAL_BONE\n",
      "   AXIAL_WO\n",
      "   delay__1\n",
      "   delay__2\n",
      "   Head__3_0__J37s__1\n",
      "   Head__3_0__H60s\n",
      "   AXIAL_HEAD\n",
      "   AXIAL_HEAD_BONE\n",
      "   COR_HEAD\n",
      "   AXIAL_BONE_HEAD\n",
      "   noncontrast_Head_3_000\n",
      "   Brain_XC___5_0__H31s\n",
      "   Brain_XC___3_0__MPR_SAG\n",
      "   Brain_XC___3_0__MPR_COR\n",
      "   Head_3_0__Axial____FC64\n",
      "   Bone_3_0__Axial____FC30\n",
      "   Sagittal\n",
      "   HEAD_3_75mm_Soft\n",
      "   Head_2_5_Bone\n",
      "   5MM_ST\n",
      "   2_5_MM_BONE\n",
      "   Bone_5_0\n",
      "   DE_Head__5_0__Hc40__2__F_0_5\n",
      "   DE_Head__3_0__Br64__2__F_0_5\n",
      "   DE_CarotidAngio__3_0__Bv36__3__F_0_6\n",
      "\n",
      "Column: ImageType\n",
      "Distinct values (8):\n",
      "   ORIGINAL\\PRIMARY\\AXIAL\\CT_SOM5 SPI\n",
      "   DERIVED\\PRIMARY\\AXIAL\\CT_SOM5 MPR\n",
      "   DERIVED\\PRIMARY\\AXIAL\\CT_SOM5 MIP\n",
      "   ORIGINAL\\PRIMARY\\AXIAL\\CT_SOM5 SEQ\n",
      "   ORIGINAL\\PRIMARY\\AXIAL\n",
      "   ORIGINAL\\PRIMARY\\AXIAL\\VOLUME\n",
      "   DERIVED\\PRIMARY\\MPR\n",
      "   ORIGINAL\\PRIMARY\\AXIAL\\CT_SOM5 SPI DUAL\\STD\\DNRG\\DET_AB\n",
      "\n",
      "Column: BodyPartExamined\n",
      "Distinct values (5):\n",
      "   HEAD\n",
      "   nan\n",
      "   NECK\n",
      "   CT_HEAD\n",
      "   CT_ HEAD\n"
     ]
    }
   ],
   "source": [
    "for col, unique_vals2 in unique_values2.items():\n",
    "    print(f\"\\nColumn: {col}\")\n",
    "    print(f\"Distinct values ({len(unique_vals2)}):\")\n",
    "    for val in unique_vals2:\n",
    "        print(f\"   {val}\")\n"
   ]
  },
  {
   "cell_type": "markdown",
   "metadata": {},
   "source": [
    "## Filtering by SeriesDescription"
   ]
  },
  {
   "cell_type": "markdown",
   "metadata": {},
   "source": [
    "The SeriesDescription field offers some clues on how to further filter out the data. We include those instances where the word ``head`` is contained within the ``SeriesDescription`` field."
   ]
  },
  {
   "cell_type": "code",
   "execution_count": 183,
   "metadata": {},
   "outputs": [
    {
     "data": {
      "text/plain": [
       "(1543, 185)"
      ]
     },
     "execution_count": 183,
     "metadata": {},
     "output_type": "execute_result"
    }
   ],
   "source": [
    "df = df[df['SeriesDescription'].str.contains('head', case=False, na=False)]\n",
    "df.shape"
   ]
  },
  {
   "cell_type": "code",
   "execution_count": 184,
   "metadata": {},
   "outputs": [
    {
     "data": {
      "text/plain": [
       "array(['CT BRAIN WO CONTRAST (70450)',\n",
       "       'CT BRAIN WO, CTA BRAIN & CEREBRAL PERFUSION (70496, 0042T)',\n",
       "       'CT ANGIO HEAD & NECK W/WO (70496, 70498)',\n",
       "       'EXTERNAL CT-STORE & INTERPRET',\n",
       "       'CT ANGIO HEAD W/WO CONTRAST (70496)',\n",
       "       'CTA BRAIN & CEREBRAL PERFUSION (70496, 0042T)',\n",
       "       'EXTERNAL CT - STORE ONLY', 'EXTERNAL CT - STORE ONLY - RAD',\n",
       "       'EXTERNAL CT BRAIN - STORE ONLY - RAD',\n",
       "       'EXTERNAL CT BRAIN - STORE ONLY', 'EXTERNAL CT BRAIN INTERPRET'],\n",
       "      dtype=object)"
      ]
     },
     "execution_count": 184,
     "metadata": {},
     "output_type": "execute_result"
    }
   ],
   "source": [
    "df['StudyDescription'].unique()"
   ]
  },
  {
   "cell_type": "markdown",
   "metadata": {},
   "source": [
    "## Filtering by StudyDescription"
   ]
  },
  {
   "cell_type": "markdown",
   "metadata": {},
   "source": [
    "We notice the unique values on the StudyDescription field have shrinked. Upon further research, we decide to exclude instances that contain ``ANGIO`` on the StudyDescription field as these refer to images with contrast, which is the opposite of what we want."
   ]
  },
  {
   "cell_type": "code",
   "execution_count": 185,
   "metadata": {},
   "outputs": [
    {
     "data": {
      "text/plain": [
       "(1472, 185)"
      ]
     },
     "execution_count": 185,
     "metadata": {},
     "output_type": "execute_result"
    }
   ],
   "source": [
    "df = df[~df['StudyDescription'].str.contains('ANGIO', case=False, na=False)]\n",
    "df.shape"
   ]
  },
  {
   "cell_type": "code",
   "execution_count": 186,
   "metadata": {},
   "outputs": [
    {
     "data": {
      "text/plain": [
       "array(['CT BRAIN WO CONTRAST (70450)',\n",
       "       'CT BRAIN WO, CTA BRAIN & CEREBRAL PERFUSION (70496, 0042T)',\n",
       "       'EXTERNAL CT-STORE & INTERPRET',\n",
       "       'CTA BRAIN & CEREBRAL PERFUSION (70496, 0042T)',\n",
       "       'EXTERNAL CT - STORE ONLY', 'EXTERNAL CT - STORE ONLY - RAD',\n",
       "       'EXTERNAL CT BRAIN - STORE ONLY - RAD',\n",
       "       'EXTERNAL CT BRAIN - STORE ONLY', 'EXTERNAL CT BRAIN INTERPRET'],\n",
       "      dtype=object)"
      ]
     },
     "execution_count": 186,
     "metadata": {},
     "output_type": "execute_result"
    }
   ],
   "source": [
    "df['StudyDescription'].unique()"
   ]
  },
  {
   "cell_type": "markdown",
   "metadata": {},
   "source": [
    "Some closer look on the ``StudyDescription`` field from the original ``inventory_test.csv`` file, gives us some more clues on how the values inside this field are organized. \n",
    "Sometimes the value contained belongs to **more than one type of study**, these type of studies are separated by commas. Another important thing to take into account is that sometimes, the values also include a refered code i.e. \n",
    "> (70496, 0042T) \n",
    "\n",
    "We need to also take that into account. We want to **exclude** those values where there is only one type of study and the word CTA is included. \n",
    "Since we cannot create a rule to include ALL NCCT instances this would be our best best to not roll out any possible NCCT images. "
   ]
  },
  {
   "cell_type": "code",
   "execution_count": 187,
   "metadata": {},
   "outputs": [
    {
     "data": {
      "text/plain": [
       "(1471, 185)"
      ]
     },
     "execution_count": 187,
     "metadata": {},
     "output_type": "execute_result"
    }
   ],
   "source": [
    "# Exclude rows where 'CTA' is present and:\n",
    "# 1. No commas are present, or\n",
    "# 2. The comma is preceded by a number and followed by a space\n",
    "df = df[~(df['StudyDescription'].str.startswith('CTA') & \n",
    "                   df['StudyDescription'].str.count(',').eq(1) & \n",
    "                   df['StudyDescription'].str.contains(r'\\d,\\s'))]\n",
    "\n",
    "df.shape"
   ]
  },
  {
   "cell_type": "code",
   "execution_count": 188,
   "metadata": {},
   "outputs": [
    {
     "data": {
      "text/plain": [
       "array(['CT BRAIN WO CONTRAST (70450)',\n",
       "       'CT BRAIN WO, CTA BRAIN & CEREBRAL PERFUSION (70496, 0042T)',\n",
       "       'EXTERNAL CT-STORE & INTERPRET', 'EXTERNAL CT - STORE ONLY',\n",
       "       'EXTERNAL CT - STORE ONLY - RAD',\n",
       "       'EXTERNAL CT BRAIN - STORE ONLY - RAD',\n",
       "       'EXTERNAL CT BRAIN - STORE ONLY', 'EXTERNAL CT BRAIN INTERPRET'],\n",
       "      dtype=object)"
      ]
     },
     "execution_count": 188,
     "metadata": {},
     "output_type": "execute_result"
    }
   ],
   "source": [
    "df['StudyDescription'].unique()"
   ]
  },
  {
   "cell_type": "code",
   "execution_count": 189,
   "metadata": {},
   "outputs": [
    {
     "name": "stdout",
     "output_type": "stream",
     "text": [
      "\n",
      "Column: Modality\n",
      "Distinct values (1):\n",
      "   CT\n",
      "\n",
      "Column: StudyDescription\n",
      "Distinct values (8):\n",
      "   CT BRAIN WO CONTRAST (70450)\n",
      "   CT BRAIN WO, CTA BRAIN & CEREBRAL PERFUSION (70496, 0042T)\n",
      "   EXTERNAL CT-STORE & INTERPRET\n",
      "   EXTERNAL CT - STORE ONLY\n",
      "   EXTERNAL CT - STORE ONLY - RAD\n",
      "   EXTERNAL CT BRAIN - STORE ONLY - RAD\n",
      "   EXTERNAL CT BRAIN - STORE ONLY\n",
      "   EXTERNAL CT BRAIN INTERPRET\n",
      "\n",
      "Column: SeriesDescription\n",
      "Distinct values (74):\n",
      "   Helical_Head__5_0__J37s\n",
      "   Helical_Head__5_0__Axial_MPR\n",
      "   Helical_Head_Coronal\n",
      "   Helical_Head_Sagittal\n",
      "   Helical_Head__3_0__J70h\n",
      "   Head__5_0__Hc40__2\n",
      "   Bone__Head__3_0__Br64__2\n",
      "   Head__5_0__Axial\n",
      "   Head__5_0__Coronal\n",
      "   Head__5_0__Sagittal\n",
      "   Head__5_0__J37s__1\n",
      "   Head__3_0__J70h__1\n",
      "   Head__5_0_Axial\n",
      "   Helical_Head__5_0__H41s\n",
      "   Bone_Head__3_0__H70h\n",
      "   Infant_Head__4_0__Hr38__2\n",
      "   Infant_Head__4_0__Axial\n",
      "   Head__5_0__J37f__1\n",
      "   Head__3_0__Q40f__1\n",
      "   Head__5_0__MPR__ax\n",
      "   Head__5_0__MPR__cor\n",
      "   Head__5_0__MPR__sag\n",
      "   Head___5_0__Hc40__2\n",
      "   Head___5_0__MPR__Axial\n",
      "   Head___5_0__MPR__Coronal\n",
      "   Head___5_0__MPR__Sagittal\n",
      "   Head___3_0__Hr68__2\n",
      "   Head__5_0__J37s__1___iMAR\n",
      "   Head__5_0__H41s\n",
      "   Helical_Head_5_0_H41s\n",
      "   Head__5_0__H37s\n",
      "   HELICAL_HEAD\n",
      "   Recon_2__HELICAL_HEAD\n",
      "   Head__5_0__COR\n",
      "   Head__5_0__SAG\n",
      "   Head__5_0__H41f\n",
      "   Head_SPIRAL_Spiral\n",
      "   Head__4_0__H31s\n",
      "   Head\n",
      "   Head__3_0__H70h\n",
      "   Head__5_0__Hc40__3\n",
      "   Bone_Head__3_0__Br64__2\n",
      "   Head_5mm_soft_tissue\n",
      "   Head_3mm_coronal\n",
      "   Head_3mm_sagittal\n",
      "   Head__3_0__J40s_Soft\n",
      "   Head__3_0__J70h_Bone\n",
      "   Head__Cor\n",
      "   Head_Sag\n",
      "   Head_WO__3_0__J30f__SOFT\n",
      "   Head_WO__3_0__H60f_BONE\n",
      "   COR_Head_WO__3_0___SOFT\n",
      "   Head__4_0__H60s\n",
      "   Coronal_Head__4_0__MPR\n",
      "   Sagittal_Head__4_0__MPR\n",
      "   Head_repeat__4_0__H60s\n",
      "   Head_repeat_4_0__H31s\n",
      "   noncontrast_Head_3_0\n",
      "   Head__3_0__J30s\n",
      "   Head__3_0__J70h\n",
      "   Head_5_0\n",
      "   brain_Head_3_0\n",
      "   Head_3_0\n",
      "   brain_ST_Head_3_0\n",
      "   Head__3_0__J37s__1\n",
      "   Head__3_0__H60s\n",
      "   AXIAL_HEAD\n",
      "   AXIAL_HEAD_BONE\n",
      "   COR_HEAD\n",
      "   AXIAL_BONE_HEAD\n",
      "   noncontrast_Head_3_000\n",
      "   Head_3_0__Axial____FC64\n",
      "   HEAD_3_75mm_Soft\n",
      "   Head_2_5_Bone\n",
      "\n",
      "Column: ImageType\n",
      "Distinct values (4):\n",
      "   ORIGINAL\\PRIMARY\\AXIAL\\CT_SOM5 SPI\n",
      "   DERIVED\\PRIMARY\\AXIAL\\CT_SOM5 MPR\n",
      "   ORIGINAL\\PRIMARY\\AXIAL\n",
      "   DERIVED\\PRIMARY\\MPR\n",
      "\n",
      "Column: BodyPartExamined\n",
      "Distinct values (4):\n",
      "   HEAD\n",
      "   nan\n",
      "   CT_HEAD\n",
      "   CT_ HEAD\n"
     ]
    }
   ],
   "source": [
    "unique_values3 = {col : df[col].unique() for col in relevant_columns_list2}\n",
    "\n",
    "for col, unique_vals3 in unique_values3.items():\n",
    "    print(f\"\\nColumn: {col}\")\n",
    "    print(f\"Distinct values ({len(unique_vals3)}):\")\n",
    "    for val in unique_vals3:\n",
    "        print(f\"   {val}\")"
   ]
  },
  {
   "cell_type": "code",
   "execution_count": 286,
   "metadata": {},
   "outputs": [],
   "source": [
    "df.to_excel('final_filtered.xlsx', index=False)"
   ]
  },
  {
   "cell_type": "markdown",
   "metadata": {},
   "source": [
    "## Creating a DateTime column"
   ]
  },
  {
   "cell_type": "code",
   "execution_count": 190,
   "metadata": {},
   "outputs": [
    {
     "name": "stdout",
     "output_type": "stream",
     "text": [
      "ContentDate    float64\n",
      "ContentTime    float64\n",
      "dtype: object\n"
     ]
    }
   ],
   "source": [
    "print(df[['ContentDate', 'ContentTime']].dtypes)"
   ]
  },
  {
   "cell_type": "code",
   "execution_count": 191,
   "metadata": {},
   "outputs": [
    {
     "name": "stdout",
     "output_type": "stream",
     "text": [
      "ContentDate    0\n",
      "ContentTime    0\n",
      "dtype: int64\n"
     ]
    }
   ],
   "source": [
    "null_values = df[['ContentDate', 'ContentTime']].isna().sum()\n",
    "\n",
    "print(null_values)"
   ]
  },
  {
   "cell_type": "markdown",
   "metadata": {},
   "source": [
    "We have made sure that no null values are present on either of our Date or Time fields, note that we need to convert it from float to string in order to work later with datetime.\n",
    "The ContentTime field contains some faulty data since the leading zero in the time is missing so for example:\n",
    "\n",
    "9:54:00 a.m. is written as 95400 but we need it to be 095400, so we will add a leading 0 for those instances"
   ]
  },
  {
   "cell_type": "code",
   "execution_count": 192,
   "metadata": {},
   "outputs": [],
   "source": [
    "df['ContentDate'] = df['ContentDate'].astype(float).astype(int).astype(str)\n",
    "df['ContentTime'] = df['ContentTime'].astype(float).astype(int).astype(str)\n",
    "\n",
    "df['ContentTime'] = df['ContentTime'].str.zfill(6)"
   ]
  },
  {
   "cell_type": "code",
   "execution_count": 193,
   "metadata": {},
   "outputs": [],
   "source": [
    "df['ContentDateTime'] = pd.to_datetime(df['ContentDate'] + df['ContentTime'], format='%Y%m%d%H%M%S')"
   ]
  },
  {
   "cell_type": "markdown",
   "metadata": {},
   "source": [
    "## Grouping by PatientID and Ordering by ContentDateTime\n",
    "\n",
    "We sort values by PatientID AND our newly created column ContentDateTime. We will pick only the first in time (the oldest one)."
   ]
  },
  {
   "cell_type": "code",
   "execution_count": 194,
   "metadata": {},
   "outputs": [],
   "source": [
    "df_sorted = df.sort_values(by=['PatientID', 'ContentDateTime'])\n",
    "\n",
    "df_first_instance = df_sorted.groupby('PatientID').first().reset_index()"
   ]
  },
  {
   "cell_type": "code",
   "execution_count": 195,
   "metadata": {},
   "outputs": [
    {
     "data": {
      "text/plain": [
       "(320, 186)"
      ]
     },
     "execution_count": 195,
     "metadata": {},
     "output_type": "execute_result"
    }
   ],
   "source": [
    "df_first_instance.shape"
   ]
  },
  {
   "cell_type": "markdown",
   "metadata": {},
   "source": [
    "We are left wit 320 patients, this could mean that our filtering strategy has been too aggressive or that as we supposed at the beginning, not all PatientsID contain NCCT images. "
   ]
  },
  {
   "cell_type": "code",
   "execution_count": 196,
   "metadata": {},
   "outputs": [
    {
     "data": {
      "text/plain": [
       "320"
      ]
     },
     "execution_count": 196,
     "metadata": {},
     "output_type": "execute_result"
    }
   ],
   "source": [
    "df['PatientID'].nunique()"
   ]
  },
  {
   "cell_type": "markdown",
   "metadata": {},
   "source": [
    "## That's all folks\n",
    "We save the final result with the unique patients and the first image in time"
   ]
  },
  {
   "cell_type": "code",
   "execution_count": 152,
   "metadata": {},
   "outputs": [],
   "source": [
    "df_first_instance.to_excel('final_result.xlsx', index=False)"
   ]
  },
  {
   "cell_type": "markdown",
   "metadata": {},
   "source": [
    "## Notes:\n",
    "\n",
    "- Since it is specified that the values within the 25 instances are 100% NCCT images, I had to assume that there was some tolerance within the orientation inside the ``ImageOrientationPatient`` as there was a row where the ``ImageType`` field did not contain the  ``AXIAL`` tag and the orientation vector was not perfectly aligned with [1, 0, 0, 0, 1, 0], which made me think that a tolerance value was being used.\n",
    "\n",
    "- In the inventory, in particular in the ``BodyPartExamined`` field I have found that it contains values that are not within the official code denomination [Table L-1. Corresponding Codes and Terms for Human Use](https://dicom.nema.org/medical/dicom/current/output/chtml/part16/chapter_L.html#chapter_L) i.e. CT_HEAD, CT_ HEAD"
   ]
  },
  {
   "cell_type": "code",
   "execution_count": null,
   "metadata": {},
   "outputs": [],
   "source": []
  },
  {
   "cell_type": "code",
   "execution_count": null,
   "metadata": {},
   "outputs": [],
   "source": []
  },
  {
   "cell_type": "code",
   "execution_count": null,
   "metadata": {},
   "outputs": [],
   "source": []
  }
 ],
 "metadata": {
  "kernelspec": {
   "display_name": "Python 3",
   "language": "python",
   "name": "python3"
  },
  "language_info": {
   "codemirror_mode": {
    "name": "ipython",
    "version": 3
   },
   "file_extension": ".py",
   "mimetype": "text/x-python",
   "name": "python",
   "nbconvert_exporter": "python",
   "pygments_lexer": "ipython3",
   "version": "3.11.1"
  }
 },
 "nbformat": 4,
 "nbformat_minor": 2
}
